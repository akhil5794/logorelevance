{
 "cells": [
  {
   "cell_type": "markdown",
   "metadata": {},
   "source": [
    "# LOGO RELEVANCE"
   ]
  },
  {
   "cell_type": "markdown",
   "metadata": {},
   "source": [
    "A **logo** (abbreviation of logotype, from Greek: λόγος, translit. logos, lit. 'word' and Greek: τύπος, translit. typos, lit. 'imprint') is a **graphic mark, emblem, or symbol** used to aid and promote public identification and recognition. It may be of an abstract or figurative design or include the text of the name it represents as in a wordmark."
   ]
  },
  {
   "cell_type": "markdown",
   "metadata": {},
   "source": [
    "* Logo is the **visual entity** signifying an organization\n",
    "* As soon as you begin **advertising your product** with your logo, your logo is technically trademarked in the eyes of the law.\n",
    "* In the United States, trademark rights begin when the **trademark** is put into **commercial use**."
   ]
  },
  {
   "cell_type": "markdown",
   "metadata": {},
   "source": [
    "## Why do I need a logo?\n",
    "* Having a **professional looking**, well designed logo builds trust. \n",
    "* **Potential customers are more likely to do business** with you if you have a well designed logo.\n",
    "* If your logo looks like it was designed in Microsoft Word, people will question how well you are able to deliver your core business products/services."
   ]
  },
  {
   "cell_type": "markdown",
   "metadata": {},
   "source": [
    "## How do I get a logo?\n",
    "* The best way to get a logo is to have it professionally designed. \n",
    "* Although there are cheap online logo design services, from our experience the best value and service is from small local graphic design shops or print shops.\n",
    "* By going for a small freelance graphic designer or print shop with an in-house designer, you’re going to avoid paying thousands that you might pay with an ad agency or large design firm but still get a quality logo with personal service.\n",
    "* These small design businesses are also excellent at designing business cards and print materials so you can often get good deals by getting them to design your business cards, stationery and logo at once.  This also helps you nail that brand consistency."
   ]
  },
  {
   "cell_type": "markdown",
   "metadata": {},
   "source": [
    "### What Are Some Common Copyright/trademark Infringement Penalties?\n",
    "\n",
    "There are several penalties available for copyright infringement, including:\n",
    "\n",
    "* Damages and lost profits that can be as much as **$150,000 per infringement**.\n",
    "* An injunction that will stop the unauthorized use of the copyrighted material\n",
    "* **Prison time for the infringer**\n",
    "* Recovery of attorney and court fees that must be paid by the defendant\n",
    "\n",
    "There may be very similar penalties for cases of patent or trademark infringement. However, several factors can influence the exact penalties, including:\n",
    "\n",
    "* Federal and state laws related to patents and trademarks\n",
    "* The exact nature of the infringement\n",
    "* The level of harm experienced by the plaintiff\n"
   ]
  },
  {
   "cell_type": "markdown",
   "metadata": {},
   "source": [
    "## ABSTRACT\n",
    "\n",
    "* The designer is always put to challenge to design a logo for a new organization that represents the organization's value/mission/nature of service they provide.\n",
    "* If he/she designs a logo, can we automatically pull out logos that match the one that is designed or is unique.\n",
    "* This reduces a lot of rework for the designers.\n"
   ]
  },
  {
   "cell_type": "markdown",
   "metadata": {},
   "source": [
    "## Methodology\n",
    "\n",
    "* **Data Gathering:** Gather the images\n",
    "* **Preprocessing:** Clean and resize the images, Remove noise\n",
    "* **Modelling:** Extract the features, Classify the features\n",
    "* **Evaluating:** Select the similar logo(s), Rank the brand/logos\n",
    "* **Deployment:** API for similar logo recognition"
   ]
  },
  {
   "cell_type": "markdown",
   "metadata": {},
   "source": [
    "Loading the Required Libraries"
   ]
  },
  {
   "cell_type": "code",
   "execution_count": 1,
   "metadata": {},
   "outputs": [],
   "source": [
    "import pandas as pd\n",
    "import os, sys, re\n",
    "import numpy as np\n",
    "from PIL import Image\n",
    "import cv2"
   ]
  },
  {
   "cell_type": "markdown",
   "metadata": {},
   "source": [
    "# 1. Data Gathering:"
   ]
  },
  {
   "cell_type": "markdown",
   "metadata": {},
   "source": [
    "* Open the terminal and install google_images_download project\n",
    "* To install the project type the following commands in the terminal"
   ]
  },
  {
   "cell_type": "markdown",
   "metadata": {},
   "source": [
    "### Code to download python script which scrapes google images (Run only once)\n",
    "\n",
    "ref: https://pypi.org/project/google-images-download/1.0.1/"
   ]
  },
  {
   "cell_type": "markdown",
   "metadata": {},
   "source": [
    "* pip install google_images_download"
   ]
  },
  {
   "cell_type": "markdown",
   "metadata": {},
   "source": [
    "* git clone https://github.com/hardikvasa/google-images-download.git"
   ]
  },
  {
   "cell_type": "markdown",
   "metadata": {},
   "source": [
    "* cd google-images-download && sudo python setup.py install"
   ]
  },
  {
   "cell_type": "markdown",
   "metadata": {},
   "source": [
    "## Give company name and number of logos required for each company"
   ]
  },
  {
   "cell_type": "markdown",
   "metadata": {},
   "source": [
    "python google-images-download.py --keywords \"INSOFE Logo, Microsoft Logo, IBM logo, ........\" --limit 20 --format png"
   ]
  },
  {
   "cell_type": "code",
   "execution_count": 2,
   "metadata": {},
   "outputs": [
    {
     "name": "stdout",
     "output_type": "stream",
     "text": [
      "/home/akhilreddysheri/Desktop/GEM_2/Logo Classifiction\r\n"
     ]
    }
   ],
   "source": [
    "!pwd"
   ]
  },
  {
   "cell_type": "markdown",
   "metadata": {},
   "source": [
    "Path of Downloaded Images"
   ]
  },
  {
   "cell_type": "code",
   "execution_count": 3,
   "metadata": {},
   "outputs": [],
   "source": [
    "path = ('./downloads/')"
   ]
  },
  {
   "cell_type": "markdown",
   "metadata": {},
   "source": [
    "Brands whose Logos are Downloaded"
   ]
  },
  {
   "cell_type": "code",
   "execution_count": 4,
   "metadata": {},
   "outputs": [
    {
     "name": "stdout",
     "output_type": "stream",
     "text": [
      "[' China Railway Group logo', ' ArcelorMittal logo', ' Ford Motor logo', ' Country Garden Holdings logo', ' C.H. Robinson Worldwide logo', ' Henry Schein logo', ' Sherwin-Williams logo', ' MetLife logo', ' Hartford Financial Services logo', ' ManpowerGroup logo', ' Unilever logo', ' Deere & Company logo', ' Dell Technologies logo', ' NGL Energy Partners logo', ' PG&E Corp. logo', ' WestRock logo', ' Verizon Communications logo', ' Itochu logo', ' Northwestern Mutual logo', ' Reinsurance Group of America logo', ' ENGIE logo', ' Royal Bank of Canada logo', ' AT&T logo', ' Peugeot logo', ' Honda Motor logo', ' J.C. Penney logo', ' Tokio Marine Holdings logo', ' Cummins logo', ' Progressive logo', ' Vale logo', ' Verizon logo', ' BHP Billiton logo', ' Alcoa logo', ' State Street Corp. logo', ' Sberbank logo', ' Samsung Electronics logo', ' Netflix logo', ' Bank of America logo', ' Microsoft logo', ' Toyota Motor logo', ' Shanghai Pudong Development logo', ' State Farm Insurance Cos. logo', ' BBVA-Banco Bilbao Vizcaya logo', ' Bristol-Myers Squibb logo', ' Southwest Airlines logo', ' Philip Morris International logo', ' Arconic logo', ' Christian Dior logo', ' Merck & Co. logo', ' Prudential logo', ' Nordstrom logo', ' Ross Stores logo', ' Molina Healthcare logo', ' EDF logo', ' Western Digital logo', ' Renault logo', ' Costco Wholesale logo', ' Royal Dutch Shell logo', ' PTT PCL logo', ' World Fuel Services logo', ' BB&T logo', ' SAP logo', ' BlackRock logo', ' ConocoPhillips logo', ' Express Scripts Holding logo', ' Express Scripts logo', ' Duke Energy logo', ' Cognizant Technology Solutions logo', ' UniCredit Group logo', ' United Technologies logo', ' Nestle logo', ' Macy’s logo', ' Saint-Gobain logo', ' AbbVie logo', ' Wells Fargo logo', ' Nucor logo', ' Schneider Electric logo', ' Sun Life Financial logo', ' Delta Air Lines logo', ' Kraft Heinz logo', ' Xcel Energy logo', ' Marriott International logo', ' HCA Healthcare logo', ' INTL FCStone logo', ' Stryker logo', ' Tesco logo', ' Accenture logo', ' Target logo', ' Manulife logo', ' Arrow Electronics logo', ' EXOR logo', ' Lincoln National logo', ' Itaú Unibanco Holding logo', ' TJX logo', ' Suncor Energy logo', ' McDonald’s logo', ' Reckitt Benckiser Group logo', ' Munich Re logo', ' Midea Group logo', ' Coca-Cola logo', ' Brookfield Asset Management logo', ' Gilead Sciences logo', ' China Pacific Insurance logo', ' Huaxia Bank logo', ' State Street logo', ' Comcast logo', ' Lloyds Banking Group logo', ' China Vanke logo', ' Saudi Basic Industries logo', ' Cisco Systems logo', ' Royal Bank of Scotland logo', ' FirstEnergy logo', ' Marathon Petroleum logo', ' Albertsons Cos. logo', ' KDDI logo', ' CaixaBank logo', ' CSX logo', ' L Brands logo', ' Centene logo', ' Bank of Montreal logo', ' Softbank logo', ' Supervalu logo', ' Industrial Bank logo', ' Posco logo', ' National Australia Bank logo', ' Johnson Controls International logo', ' Union Pacific logo', ' Lennar logo', ' Reliance Industries logo', ' Bank of China logo', ' KBC Group logo', ' Twenty-First Century Fox logo', ' Aviva logo', ' Caterpillar logo', ' ABB logo', ' Shinhan Financial Group logo', ' LyondellBasell Industries logo', ' BB&T Corp. logo', ' Massachusetts Mutual Life Insurance logo', ' Deutsche Post logo', ' KB Financial Group logo', ' Kohl’s logo', ' Westpac Banking Group logo', ' Korea Electric Power logo', ' Broadcom logo', ' Orix logo', ' SAIC Motor logo', ' China Telecom logo', ' Marsh & McLennan logo', ' Generali Group logo', ' Qualcomm logo', ' BNP Paribas logo', ' Fiat Chrysler Automobiles logo', ' CRRC logo', ' NRG Energy logo', ' Ecolab logo', ' Procter & Gamble logo', ' NextEra Energy logo', ' Waste Management logo', ' Eni logo', ' British American Tobacco logo', ' DaVita logo', ' Booking Holdings logo', ' Travelers Cos. logo', 'INSOFE logo', ' Tencent Holdings logo', ' Intesa Sanpaolo logo', ' Bayer logo', ' China Life Insurance logo', ' Loews logo', ' Bank of Communications logo', ' PNC Financial Services logo', ' Mitsubishi Electric logo', ' XPO Logistics logo', ' Repsol logo', ' US Foods Holding logo', ' Prudential Financial logo', ' Canadian Imperial Bank logo', ' Banco Bradesco logo', ' HSBC Holdings logo', ' Anheuser-Busch InBev logo', ' General Motors logo', ' American Airlines Group logo', ' Parker-Hannifin logo', ' Postal Savings Bank Of China logo', ' China Mobile logo', ' WellCare Health Plans logo', ' BP logo', ' Facebook logo', ' Sanofi logo', ' China Minsheng Banking logo', ' Synchrony Financial logo', ' Nordea Bank logo', ' Medtronic logo', ' Volvo Group logo', ' E.ON logo', ' Halliburton logo', ' SK Holdings logo', ' Petrobras logo', ' Kroger logo', ' Viacom logo', ' Kraft Heinz Company logo', 'ICBC logo', ' Valero Energy logo', ' DTE Energy logo', ' China Citic Bank logo', ' USAA logo', ' Consolidated Edison logo', ' Publix Super Markets logo', ' Freddie Mac logo', ' Novartis logo', ' Nationwide logo', ' American Electric Power logo', ' Citic Pacific logo', ' Bank of America Corp. logo', ' Southern Company logo', ' HDFC Bank logo', ' Volkswagen Group logo', ' Oil & Natural Gas logo', ' Walt Disney logo', ' Danske Bank logo', ' Energy Transfer Equity logo', ' Baoshan Iron & Steel logo', ' Air Liquide logo', ' Kinder Morgan logo', ' Stanley Black & Decker logo', ' Cigna logo', ' Telefónica logo', ' Monsanto logo', ' Mondelēz International logo', ' AmerisourceBergen logo', ' ING Group logo', ' Daimler logo', ' Emerson Electric logo', ' Micron Technology logo', ' Illinois Tool Works logo', ' Bank of New York Mellon logo', ' Lear logo', ' Lockheed Martin logo', ' Enbridge logo', ' Genuine Parts logo', ' Equinor logo', ' Alphabet logo', ' Iberdrola logo', ' Morgan Stanley logo', ' Mitsubishi UFJ Financial logo', ' BMW Group logo', ' Mitsubishi logo', ' Abbott Laboratories logo', ' AstraZeneca logo', ' CVS Health logo', ' Archer Daniels Midland logo', ' Legal & General Group logo', ' Gazprom logo', ' General Dynamics logo', ' Textron logo', ' Fannie Mae logo', ' United States Steel logo', ' Agricultural Bank of China logo', ' Farmers Insurance Exchange logo', ' Pfizer logo', ' Merck logo', ' Rio Tinto logo', ' BASF logo', ' Hewlett Packard Enterprise logo', ' Liberty Mutual Insurance Group logo', ' Guardian Life Ins. Co. of America logo', ' Edison International logo', ' International Paper logo', ' Sumitomo logo', ' China Shenhua Energy logo', ' Glencore International logo', ' EOG Resources logo', ' Omnicom Group logo', ' CK Hutchison logo', ' Core-Mark Holding logo', ' China Merchants Bank logo', ' Rosneft logo', ' DBS Group logo', ' Fluor logo', ' Sinopec logo', ' Poly Real Estate logo', ' ANZ logo', ' Jabil logo', ' China Communications Construction logo', ' Mizuho Financial logo', ' Land O’Lakes logo', ' Commonwealth Bank logo', ' Travelers logo', ' Oversea-Chinese Banking logo', ' Southern logo', ' Johnson & Johnson logo', ' GlaxoSmithKline logo', ' Chubb logo', ' Bank of Beijing logo', ' Time Warner logo', ' Amgen logo', ' Henkel logo', ' McDonalds logo', ' Raytheon logo', ' Honeywell International logo', ' Northrop Grumman logo', ' Dollar General logo', ' UnitedHealth Group logo', ' Central Japan Railway logo', ' Principal Financial logo', ' Bed Bath & Beyond logo', ' UBS logo', ' Humana logo', ' Intel logo', ' Envision Healthcare logo', ' Deutsche Telekom logo', ' Phillips 66 logo', ' Paccar logo', ' FedEx logo', ' US Bancorp logo', ' Alibaba logo', ' PepsiCo logo', ' Exxon Mobil logo', ' PetroChina logo', ' Amazon.com logo', ' Freeport-McMoRan logo', ' General Electric logo', ' Gap logo', ' Biogen logo', ' National Grid logo', ' Sysco logo', ' UPS logo', ' Royal Ahold Delhaize N.V. logo', ' McKesson logo', ' DowDuPont logo', ' LOréal Group logo', ' AutoNation logo', ' AIRBUS logo', ' Best Buy logo', ' Tenet Healthcare logo', ' Kimberly-Clark logo', ' Walmart logo', ' Cardinal Health logo', ' Indian Oil logo', ' Seven & I Holdings logo', ' Total logo', ' VINCI logo', ' Bank of Nova Scotia logo', ' ADP logo', ' Fresenius logo', ' Panasonic logo', ' China Everbright Bank logo', ' Goodyear Tire & Rubber logo', ' Charter Communications logo', ' American Express logo', ' China State Construction Engineering logo', ' HCA Holdings logo', ' Performance Food Group logo', ' China Railway Construction logo', ' U.S. Bancorp logo', ' Peoples Insurance logo', ' First Data logo', ' Sony logo', ' Estee Lauder logo', ' Las Vegas Sands logo', ' Anadarko Petroleum logo', ' Inditex logo', ' China Evergrande Group logo', ' East Japan Railway logo', ' Visa logo', ' Lowe’s logo', ' Discover Financial Services logo', ' TD Bank Group logo', ' United Continental Holdings logo', ' Sumitomo Mitsui Financial logo', ' Berkshire Hathaway logo', ' ExxonMobil logo', ' Dominion Energy logo', ' Aegon logo', ' HollyFrontier logo', ' Tesla logo', ' Rite Aid logo', ' Starbucks logo', ' Baidu logo', ' Shire logo', ' Jardine Matheson logo', ' Hitachi logo', ' Aflac logo', ' AIA Group logo', ' Chevron logo', ' Plains GP Holdings logo', ' Avnet logo', ' Credit Agricole logo', ' Ameriprise Financial logo', ' Nissan Motor logo', ' AXA Group logo', ' DISH Network logo', ' CarMax logo', ' Praxair logo', ' SK Hynix logo', ' Aetna logo', ' Hon Hai Precision logo', ' AES logo', ' Tech Data logo', ' Ping An Insurance Group logo', ' Eli Lilly logo', ' Becton Dickinson logo', ' Walgreens Boots Alliance logo', ' Texas Instruments logo', ' Unum Group logo', ' Gree Electric Appliances logo', ' Sempra Energy logo', ' Charles Schwab logo', ' Disney logo', ' Qatar National Bank logo', ' China Construction Bank logo', ' Cathay Financial logo', ' Jefferies Financial Group logo', ' D.R. Horton logo', ' Enterprise Products Partners logo', ' New York Life Insurance logo', ' Taiwan Semiconductor logo', ' Hyundai Motor logo', ' United Parcel Service logo', ' Orange logo', ' Aramark logo', ' LukOil logo', ' Nippon Telegraph & Tel logo', ' CHS logo', ' Applied Materials logo', ' JXTG Holdings logo', ' Danone logo', ' Community Health Systems logo', ' BT Group logo', ' Capital One Financial logo', ' Synnex logo', ' Devon Energy logo', ' Universal Health Services logo', ' Danaher logo', ' CenturyLink logo', ' Andeavor logo', ' Roche Holding logo', ' General Mills logo', ' Apple logo', ' Celgene logo', ' Mastercard logo', ' Icahn Enterprises logo', ' CNP Assurances logo', ' AECOM logo', ' HP logo', ' Citigroup logo', ' Lowes logo', ' Mitsui logo', ' Tyson Foods logo', ' Société Générale logo', ' Anthem logo', ' Japan Tobacco logo', ' Costco logo', ' CBRE Group logo', ' Denso logo', ' Nike logo', ' PPG Industries logo', ' Penske Automotive Group logo', ' Canon logo', ' VF logo', ' Oracle logo', ' TIAA logo', ' Newell Brands logo', ' Exelon logo', ' Safran logo', ' Dai-ichi Life Insurance logo', ' Thermo Fisher Scientific logo', ' Goldman Sachs Group logo', ' Sun Hung Kai Properties logo', ' CBS logo', ' Zurich Insurance Group logo', ' JPMorgan Chase logo', ' Kellogg logo', ' Allianz logo', ' Deere logo', ' IBM logo', ' Dollar Tree logo', ' Occidental Petroleum logo', ' Continental logo', ' Colgate-Palmolive logo', ' Oneok logo', ' Banco do Brasil logo', ' Sears Holdings logo', ' 3M logo', ' Whirlpool logo', ' AIG logo', ' Altria Group logo', ' Siemens logo', ' Mondelez International logo', ' PBF Energy logo', ' Diageo logo', ' CNOOC logo', ' Enel logo', ' Banco Santander logo', ' Anglo American logo', ' Home Depot logo', ' CDW logo', ' PayPal Holdings logo', ' Boeing logo', ' Allstate logo']\n"
     ]
    }
   ],
   "source": [
    "print(os.listdir(path))"
   ]
  },
  {
   "cell_type": "markdown",
   "metadata": {},
   "source": [
    "# 2. Data Preprocessing \n",
    "## 2.1 Image Resizing\n",
    "## 2.2 Remove noise in scraped data\n",
    "### Read raw scraped data and resize to shape (50,50)"
   ]
  },
  {
   "cell_type": "markdown",
   "metadata": {},
   "source": [
    "PATH to store resized images"
   ]
  },
  {
   "cell_type": "code",
   "execution_count": 5,
   "metadata": {},
   "outputs": [],
   "source": [
    "path1 = ('./resized_images_5k/')"
   ]
  },
  {
   "cell_type": "markdown",
   "metadata": {},
   "source": [
    "### Resized only first 12 images in each folder as there is lot of noise in scraped images\n",
    "i.e. 500 companies * 12 images for each company = 6000 logos (approximately)"
   ]
  },
  {
   "cell_type": "code",
   "execution_count": 6,
   "metadata": {},
   "outputs": [],
   "source": [
    "for item in os.listdir(path):\n",
    "    item1 = item.lstrip()\n",
    "    \n",
    "    items = os.listdir(os.path.join(path,item))\n",
    "    items = [w for w in items if re.search('^[0-9][^\\w\\*]', w)] + [w for w in items if re.search('^1[0-2]+', w)]\n",
    "    \n",
    "    for img in items:\n",
    "        if \"png\" in img or \"gif\" in img or \"jpg\" in img or \"jpeg\" in img:\n",
    "            \n",
    "            if \"png\" in img and \".png\" not in img:\n",
    "                img = img + \".png\"\n",
    "                \n",
    "            if \"jpg\" in img and \".jpg\" not in img:\n",
    "                img = img + \".jpg\"\n",
    "            \n",
    "            if \"asp\" not in img and \"php\" not in img:\n",
    "                try:\n",
    "                    if not os.path.exists(path1 + item1 + \"/\" + img):\n",
    "                        img1 = Image.open(path + item + '/' + img) # image extension *.png,*.jpg\n",
    "                        img1 = img1.resize((50,50), Image.ANTIALIAS)\n",
    "\n",
    "                        if not os.path.exists(path1 + item1):\n",
    "                            os.makedirs(path1 + item1)\n",
    "\n",
    "                        img1.save(str(path1 + item1 + \"/\" +img))\n",
    "                except OSError:\n",
    "                    pass"
   ]
  },
  {
   "cell_type": "code",
   "execution_count": 7,
   "metadata": {},
   "outputs": [],
   "source": [
    "#print(item)\n",
    "#print(img)"
   ]
  },
  {
   "cell_type": "markdown",
   "metadata": {},
   "source": [
    "PATH to the resized images "
   ]
  },
  {
   "cell_type": "code",
   "execution_count": 8,
   "metadata": {},
   "outputs": [],
   "source": [
    "PATH = \"/home/akhilreddysheri/Desktop/GEM_2/Logo Classifiction/resized_images_5k/\"\n",
    "#items = os.listdir(PATH) # dir is your directory path"
   ]
  },
  {
   "cell_type": "markdown",
   "metadata": {},
   "source": [
    "## Store the resized images into a numpy array"
   ]
  },
  {
   "cell_type": "code",
   "execution_count": 12,
   "metadata": {},
   "outputs": [],
   "source": [
    "def load_images_from_folder(PATH):\n",
    "    count = 0\n",
    "    #images = []\n",
    "    Y_Data = []\n",
    "    for target_name in os.listdir(PATH):\n",
    "        for filename in os.listdir(PATH + target_name):\n",
    "            #Y_Data.append(target_name)\n",
    "            #print(Y_Data)\n",
    "            im_path = PATH + target_name + \"/\" + filename\n",
    "            img = cv2.imread(os.path.join(PATH,target_name,filename))\n",
    "            if img is not None:\n",
    "                if count==0:\n",
    "                    images = img\n",
    "                    Y_Data.append(target_name)\n",
    "                    #print(img.shape)\n",
    "                else:                \n",
    "                    images = np.vstack((images,img))\n",
    "                    Y_Data.append(target_name)\n",
    "                    #print(img.shape)\n",
    "                count = count + 1\n",
    "    return images, Y_Data"
   ]
  },
  {
   "cell_type": "code",
   "execution_count": 13,
   "metadata": {},
   "outputs": [],
   "source": [
    "train, target = load_images_from_folder(PATH=PATH)"
   ]
  },
  {
   "cell_type": "code",
   "execution_count": 14,
   "metadata": {},
   "outputs": [
    {
     "name": "stdout",
     "output_type": "stream",
     "text": [
      "(299500, 50, 3)\n",
      "5990\n"
     ]
    }
   ],
   "source": [
    "print(train.shape)\n",
    "print(len(target))"
   ]
  },
  {
   "cell_type": "markdown",
   "metadata": {},
   "source": [
    "## CNN accepts the train input in shape (no of images, height, width, depth)\n",
    "So reshape to the above format"
   ]
  },
  {
   "cell_type": "code",
   "execution_count": 15,
   "metadata": {},
   "outputs": [],
   "source": [
    "train = train.reshape(len(target), 50, 50, 3)"
   ]
  },
  {
   "cell_type": "code",
   "execution_count": 16,
   "metadata": {},
   "outputs": [
    {
     "data": {
      "text/plain": [
       "(5990, 50, 50, 3)"
      ]
     },
     "execution_count": 16,
     "metadata": {},
     "output_type": "execute_result"
    }
   ],
   "source": [
    "train.shape"
   ]
  },
  {
   "cell_type": "code",
   "execution_count": 17,
   "metadata": {},
   "outputs": [],
   "source": [
    "np.save('./models/train', train)"
   ]
  },
  {
   "cell_type": "markdown",
   "metadata": {},
   "source": [
    "## Label Encode the target variable"
   ]
  },
  {
   "cell_type": "code",
   "execution_count": 18,
   "metadata": {},
   "outputs": [],
   "source": [
    "target_original = np.asarray(target)\n",
    "\n",
    "from sklearn import preprocessing\n",
    "le = preprocessing.LabelEncoder()\n",
    "le.fit(target)\n",
    "target_labels = le.transform(target)"
   ]
  },
  {
   "cell_type": "code",
   "execution_count": 26,
   "metadata": {},
   "outputs": [
    {
     "name": "stdout",
     "output_type": "stream",
     "text": [
      "['Siemens logo' 'Siemens logo' 'Siemens logo' ...\n",
      " 'Abbott Laboratories logo' 'Abbott Laboratories logo'\n",
      " 'Abbott Laboratories logo']\n",
      "[415 415 415 ...  12  12  12]\n"
     ]
    }
   ],
   "source": [
    "print(target_original)\n",
    "print(target_labels)"
   ]
  },
  {
   "cell_type": "markdown",
   "metadata": {},
   "source": [
    "### Save the Original Label and Encoded label in a csv file (For displaying output after predictions)"
   ]
  },
  {
   "cell_type": "code",
   "execution_count": 20,
   "metadata": {},
   "outputs": [],
   "source": [
    "import pandas as pd\n",
    "target = pd.DataFrame(list(target_original),list(target_labels))\n",
    "target = target.drop_duplicates()\n",
    "target = target.reset_index()\n",
    "target.columns = ['Encoded_Label','Original_Label']"
   ]
  },
  {
   "cell_type": "code",
   "execution_count": 27,
   "metadata": {},
   "outputs": [
    {
     "data": {
      "text/html": [
       "<div>\n",
       "<style scoped>\n",
       "    .dataframe tbody tr th:only-of-type {\n",
       "        vertical-align: middle;\n",
       "    }\n",
       "\n",
       "    .dataframe tbody tr th {\n",
       "        vertical-align: top;\n",
       "    }\n",
       "\n",
       "    .dataframe thead th {\n",
       "        text-align: right;\n",
       "    }\n",
       "</style>\n",
       "<table border=\"1\" class=\"dataframe\">\n",
       "  <thead>\n",
       "    <tr style=\"text-align: right;\">\n",
       "      <th></th>\n",
       "      <th>Encoded_Label</th>\n",
       "      <th>Original_Label</th>\n",
       "    </tr>\n",
       "  </thead>\n",
       "  <tbody>\n",
       "    <tr>\n",
       "      <th>0</th>\n",
       "      <td>415</td>\n",
       "      <td>Siemens logo</td>\n",
       "    </tr>\n",
       "    <tr>\n",
       "      <th>1</th>\n",
       "      <td>59</td>\n",
       "      <td>Banco Bradesco logo</td>\n",
       "    </tr>\n",
       "    <tr>\n",
       "      <th>2</th>\n",
       "      <td>365</td>\n",
       "      <td>Pfizer logo</td>\n",
       "    </tr>\n",
       "    <tr>\n",
       "      <th>3</th>\n",
       "      <td>159</td>\n",
       "      <td>Delta Air Lines logo</td>\n",
       "    </tr>\n",
       "    <tr>\n",
       "      <th>4</th>\n",
       "      <td>119</td>\n",
       "      <td>China Pacific Insurance logo</td>\n",
       "    </tr>\n",
       "  </tbody>\n",
       "</table>\n",
       "</div>"
      ],
      "text/plain": [
       "   Encoded_Label                Original_Label\n",
       "0            415                  Siemens logo\n",
       "1             59           Banco Bradesco logo\n",
       "2            365                   Pfizer logo\n",
       "3            159          Delta Air Lines logo\n",
       "4            119  China Pacific Insurance logo"
      ]
     },
     "execution_count": 27,
     "metadata": {},
     "output_type": "execute_result"
    }
   ],
   "source": [
    "target.head()"
   ]
  },
  {
   "cell_type": "code",
   "execution_count": 21,
   "metadata": {},
   "outputs": [],
   "source": [
    "#import numpy as np\n",
    "#np.save(\"train\", images)\n",
    "np.save(\"./models/target\", target_labels)"
   ]
  },
  {
   "cell_type": "code",
   "execution_count": 24,
   "metadata": {},
   "outputs": [],
   "source": [
    "target.to_csv(\"./models/targets.csv\", index = False)"
   ]
  },
  {
   "cell_type": "markdown",
   "metadata": {},
   "source": [
    "### Sample code to display an image"
   ]
  },
  {
   "cell_type": "code",
   "execution_count": 23,
   "metadata": {},
   "outputs": [],
   "source": [
    "#img = Image.fromarray(train[155])\n",
    "#img.save('my.png')\n",
    "#img.show()"
   ]
  },
  {
   "cell_type": "code",
   "execution_count": null,
   "metadata": {},
   "outputs": [],
   "source": [
    "train = np.load('./models/train.npy')\n",
    "print(train.shape)"
   ]
  },
  {
   "cell_type": "code",
   "execution_count": null,
   "metadata": {},
   "outputs": [],
   "source": [
    "target_original = np.load('./models/target.npy')\n",
    "print(target_original.shape)"
   ]
  },
  {
   "cell_type": "markdown",
   "metadata": {},
   "source": [
    "# 3. Modelling\n",
    "## Build CNN Model\n",
    "### Import required libraries"
   ]
  },
  {
   "cell_type": "code",
   "execution_count": null,
   "metadata": {},
   "outputs": [],
   "source": [
    "from keras.models import Sequential\n",
    "from keras.layers.normalization import BatchNormalization\n",
    "from keras.layers.convolutional import Conv2D\n",
    "from keras.layers.convolutional import MaxPooling2D\n",
    "from keras.layers.core import Activation\n",
    "from keras.layers.core import Flatten\n",
    "from keras.layers.core import Dropout\n",
    "from keras.layers.core import Dense\n",
    "from keras.utils import np_utils"
   ]
  },
  {
   "cell_type": "markdown",
   "metadata": {},
   "source": [
    "## Perform Categorical Encoding "
   ]
  },
  {
   "cell_type": "code",
   "execution_count": null,
   "metadata": {},
   "outputs": [],
   "source": [
    "target = np_utils.to_categorical(target_original).reshape(target_original.shape[0],-1)\n",
    "print(target_original.shape)\n",
    "print(target.shape)"
   ]
  },
  {
   "cell_type": "markdown",
   "metadata": {},
   "source": [
    "# CNN Model with 2 Dense, 2 Convolution, 1 MaxPooling and 2 Dropout"
   ]
  },
  {
   "cell_type": "code",
   "execution_count": null,
   "metadata": {},
   "outputs": [],
   "source": [
    "model = Sequential()\n",
    "model.add(Conv2D(32, (2, 2), activation='relu', input_shape=(50,50,3)))\n",
    "\n",
    "model.add(Conv2D(20, (3, 3), activation='relu'))\n",
    "model.add(MaxPooling2D(pool_size=(2, 2)))\n",
    "model.add(Dropout(0.25))\n",
    "\n",
    "model.add(Flatten())\n",
    "model.add(Dense(128, activation='relu'))\n",
    "model.add(Dropout(0.5))\n",
    "\n",
    "model.add(Dense(500, activation='softmax'))"
   ]
  },
  {
   "cell_type": "code",
   "execution_count": null,
   "metadata": {},
   "outputs": [],
   "source": [
    "model.compile(loss='categorical_crossentropy', optimizer='adam', metrics=['accuracy'])"
   ]
  },
  {
   "cell_type": "code",
   "execution_count": null,
   "metadata": {},
   "outputs": [],
   "source": [
    "model.summary()"
   ]
  },
  {
   "cell_type": "markdown",
   "metadata": {},
   "source": [
    "### Fit model on train and categorical encoded test data"
   ]
  },
  {
   "cell_type": "code",
   "execution_count": null,
   "metadata": {},
   "outputs": [],
   "source": [
    "model.fit(train, target, batch_size=32, epochs=1500)"
   ]
  },
  {
   "cell_type": "markdown",
   "metadata": {},
   "source": [
    "### Save Model for future use"
   ]
  },
  {
   "cell_type": "code",
   "execution_count": null,
   "metadata": {},
   "outputs": [],
   "source": [
    "model.save(\"./models/model_5k550_with_insofe.h5\")"
   ]
  },
  {
   "cell_type": "markdown",
   "metadata": {},
   "source": [
    "# 4. Evaluation/Predictions"
   ]
  },
  {
   "cell_type": "markdown",
   "metadata": {},
   "source": [
    "### Make Predictions on Train Data"
   ]
  },
  {
   "cell_type": "code",
   "execution_count": null,
   "metadata": {},
   "outputs": [],
   "source": [
    "predictions = model.predict_classes(train)"
   ]
  },
  {
   "cell_type": "markdown",
   "metadata": {},
   "source": [
    "### Calculate Train prediction Accuracy"
   ]
  },
  {
   "cell_type": "code",
   "execution_count": null,
   "metadata": {},
   "outputs": [],
   "source": [
    "# calculate accuracy of class predictions\n",
    "from sklearn import metrics\n",
    "metrics.accuracy_score(target_original, predictions)"
   ]
  },
  {
   "cell_type": "markdown",
   "metadata": {},
   "source": [
    "### Make predictions on random Test Images"
   ]
  },
  {
   "cell_type": "markdown",
   "metadata": {},
   "source": [
    "#### 4.1. Read Image and resize to 50,50 to make predictions"
   ]
  },
  {
   "cell_type": "code",
   "execution_count": null,
   "metadata": {},
   "outputs": [],
   "source": [
    "import cv2\n",
    "img = cv2.imread(\"2000px-Accenture.svg_.png\")\n",
    "img = cv2.resize(img,(75,75))"
   ]
  },
  {
   "cell_type": "code",
   "execution_count": null,
   "metadata": {},
   "outputs": [],
   "source": [
    "cv2.imshow(\"test\",img)"
   ]
  },
  {
   "cell_type": "code",
   "execution_count": null,
   "metadata": {},
   "outputs": [],
   "source": [
    "img = img.reshape(1,50,50,3)"
   ]
  },
  {
   "cell_type": "markdown",
   "metadata": {},
   "source": [
    "#### 4.2. Get probability/percentages"
   ]
  },
  {
   "cell_type": "code",
   "execution_count": null,
   "metadata": {},
   "outputs": [],
   "source": [
    "pred = model.predict(img)\n",
    "#pred2 = pred.reshape(300,)"
   ]
  },
  {
   "cell_type": "markdown",
   "metadata": {},
   "source": [
    "#### 4.3. Arrange the preictions in ascending order and get the original label names"
   ]
  },
  {
   "cell_type": "code",
   "execution_count": null,
   "metadata": {},
   "outputs": [],
   "source": [
    "pred2 = np.sort(pred)\n",
    "pred2 = np.fliplr(pred2)\n",
    "pred2 = pred2.reshape(500,)\n",
    "pred2 = pred2[:5]\n",
    "pred1 = pred.argsort()\n",
    "pred1 = np.fliplr(pred1)\n",
    "pred1 = pred1.reshape(500,)\n",
    "pred1 = pred1[:5]"
   ]
  },
  {
   "cell_type": "code",
   "execution_count": null,
   "metadata": {},
   "outputs": [],
   "source": [
    "print(pred1, pred2)"
   ]
  },
  {
   "cell_type": "code",
   "execution_count": null,
   "metadata": {},
   "outputs": [],
   "source": [
    "model.predict_classes(img)"
   ]
  },
  {
   "cell_type": "code",
   "execution_count": null,
   "metadata": {},
   "outputs": [],
   "source": [
    "import pandas as pd\n",
    "targetscsv = pd.read_csv(\"./models/targets.csv\")\n",
    "targetscsv.head()"
   ]
  },
  {
   "cell_type": "markdown",
   "metadata": {},
   "source": [
    "#### 4.4. Print the closest logos"
   ]
  },
  {
   "cell_type": "code",
   "execution_count": null,
   "metadata": {},
   "outputs": [],
   "source": [
    "nearest_logos = targetscsv['Original_Label'][targetscsv['Encoded_Label'].isin(pred1)]\n",
    "print(nearest_logos)"
   ]
  },
  {
   "cell_type": "markdown",
   "metadata": {},
   "source": [
    "# 5. Deployment"
   ]
  },
  {
   "cell_type": "markdown",
   "metadata": {},
   "source": [
    "# Deploy Keras Model with Flask as Web App in 10 Minutes\n",
    "\n",
    "[![](https://img.shields.io/badge/python-2.7%2C%203.5%2B-green.svg)]()\n",
    "[![GPLv3 license](https://img.shields.io/badge/License-GPLv3-blue.svg)](http://perso.crans.org/besson/LICENSE.html)\n",
    "\n",
    "> A pretty and customizable web app to deploy your DL model with ease\n",
    "\n",
    "------------------\n",
    "\n",
    "## Getting started in 10 minutes\n",
    "\n",
    "- Clone this repo \n",
    "- Install requirements\n",
    "- Run the script\n",
    "- Check http://localhost:5000\n",
    "- Done! :tada:\n",
    "\n",
    ":point_down:Screenshot:\n",
    "\n",
    "<p align=\"center\">\n",
    "  <img src=\"https://s18.postimg.cc/l01x6fn3d/demo1.png\" width=\"600px\" alt=\"\">\n",
    "</p>\n",
    "\n",
    "------------------\n",
    "\n",
    "## Docker Installation\n",
    "\n",
    "Build the image\n",
    "\n",
    "```shell\n",
    "cd keras-flask-deploy-webapp\n",
    "docker build -t keras_flask .\n",
    "docker run -e MODEL_PATH=models/your_model.h5 -p 5000:5000\n",
    "```\n",
    "\n",
    "You can mount your model into the container.\n",
    "\n",
    "```shell\n",
    "docker run -e MODEL_PATH=/mnt/models/your_model.h5  -v volume-name:/mnt/models -p 5000:5000 keras_flask\n",
    "```\n",
    "\n",
    "\n",
    "## Local Installation\n",
    "\n",
    "### Clone the repo\n",
    "```shell\n",
    "$ git clone https://github.com/mtobeiyf/keras-flask-deploy-webapp.git\n",
    "```\n",
    "\n",
    "### Install requirements\n",
    "\n",
    "```shell\n",
    "$ pip install -r requirements.txt\n",
    "```\n",
    "\n",
    "Make sure you have the following installed:\n",
    "- tensorflow\n",
    "- keras\n",
    "- flask\n",
    "- pillow\n",
    "- h5py\n",
    "- gevent\n",
    "\n",
    "### Run with Python\n",
    "\n",
    "Python 2.7 or 3.5+ are supported and tested.\n",
    "\n",
    "```shell\n",
    "$ python app.py\n",
    "```\n",
    "\n",
    "### Play\n",
    "\n",
    "Open http://localhost:5000 and have fun. :smiley:\n",
    "\n",
    "<p align=\"center\">\n",
    "  <img src=\"https://s18.postimg.cc/5ekln1vvt/demo2.gif\" width=\"600px\" alt=\"\">\n",
    "</p>\n",
    "\n",
    "------------------\n",
    "\n",
    "## Customization\n",
    "\n",
    "### Use your own model\n",
    "\n",
    "Place your trained `.h5` file saved by `model.save()` under models directory.\n",
    "\n",
    "Check the [commented code](https://github.com/mtobeiyf/keras-flask-deploy-webapp/blob/master/app.py#L25) in app.py.\n",
    "\n",
    "\n",
    "### Use other pre-trained model\n",
    "\n",
    "See [Keras applications](https://keras.io/applications/) for more available models such as DenseNet, MobilNet, NASNet, etc.\n",
    "\n",
    "Check [this section](https://github.com/mtobeiyf/keras-flask-deploy-webapp/blob/master/app.py#L25) in app.py.\n",
    "\n",
    "### UI Modification\n",
    "\n",
    "Modify files in `templates` and `static` directory.\n",
    "\n",
    "`index.html` for the UI and `main.js` for all the behaviors\n",
    "\n",
    "## Deployment\n",
    "\n",
    "To deploy it for public use, you need to have a public **linux server**.\n",
    "\n",
    "### Run the app\n",
    "\n",
    "Run the script and hide it in background with `tmux` or `screen`.\n",
    "```\n",
    "$ python app.py\n",
    "```\n",
    "\n",
    "You can also use gunicorn instead of gevent\n",
    "```\n",
    "$ gunicorn -b 127.0.0.1:5000 app:app\n",
    "```\n",
    "\n",
    "More deployment options, check [here](http://flask.pocoo.org/docs/0.12/deploying/wsgi-standalone/)\n",
    "\n",
    "### Set up Nginx\n",
    "\n",
    "To redirect the traffic to your local app.\n",
    "Configure your Nginx `.conf` file.\n",
    "```\n",
    "server {\n",
    "    listen  80;\n",
    "\n",
    "    client_max_body_size 20M;\n",
    "\n",
    "    location / {\n",
    "        proxy_pass http://127.0.0.1:5000;\n",
    "    }\n",
    "}\n",
    "```\n",
    "\n",
    "## More resources\n",
    "\n",
    "Check Siraj's [\"How to Deploy a Keras Model to Production\"](https://youtu.be/f6Bf3gl4hWY) video. The corresponding [repo](https://github.com/llSourcell/how_to_deploy_a_keras_model_to_production).\n",
    "\n",
    "[Building a simple Keras + deep learning REST API](https://blog.keras.io/building-a-simple-keras-deep-learning-rest-api.html)"
   ]
  }
 ],
 "metadata": {
  "kernelspec": {
   "display_name": "Python 3",
   "language": "python",
   "name": "python3"
  },
  "language_info": {
   "codemirror_mode": {
    "name": "ipython",
    "version": 3
   },
   "file_extension": ".py",
   "mimetype": "text/x-python",
   "name": "python",
   "nbconvert_exporter": "python",
   "pygments_lexer": "ipython3",
   "version": "3.6.5"
  }
 },
 "nbformat": 4,
 "nbformat_minor": 2
}
